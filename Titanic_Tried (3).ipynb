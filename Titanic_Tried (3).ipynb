{
  "nbformat": 4,
  "nbformat_minor": 0,
  "metadata": {
    "colab": {
      "name": "Titanic_Tried.ipynb",
      "provenance": [],
      "collapsed_sections": []
    },
    "kernelspec": {
      "name": "python3",
      "display_name": "Python 3"
    },
    "language_info": {
      "name": "python"
    },
    "accelerator": "GPU"
  },
  "cells": [
    {
      "cell_type": "code",
      "metadata": {
        "id": "y0TaCxHbGdsC"
      },
      "source": [
        "import numpy as np\n",
        "import pandas as pd"
      ],
      "execution_count": 149,
      "outputs": []
    },
    {
      "cell_type": "code",
      "metadata": {
        "id": "zZJFPMWRGmAN"
      },
      "source": [
        "train = pd.read_csv('/content/train.csv')\n",
        "test = pd.read_csv('/content/test.csv')"
      ],
      "execution_count": 150,
      "outputs": []
    },
    {
      "cell_type": "code",
      "metadata": {
        "colab": {
          "base_uri": "https://localhost:8080/"
        },
        "id": "LJy6h5uFGxUm",
        "outputId": "ec8cf4e1-aeed-4359-969e-8d00b2413940"
      },
      "source": [
        "train.info()"
      ],
      "execution_count": 151,
      "outputs": [
        {
          "output_type": "stream",
          "text": [
            "<class 'pandas.core.frame.DataFrame'>\n",
            "RangeIndex: 891 entries, 0 to 890\n",
            "Data columns (total 12 columns):\n",
            " #   Column       Non-Null Count  Dtype  \n",
            "---  ------       --------------  -----  \n",
            " 0   PassengerId  891 non-null    int64  \n",
            " 1   Survived     891 non-null    int64  \n",
            " 2   Pclass       891 non-null    int64  \n",
            " 3   Name         891 non-null    object \n",
            " 4   Sex          891 non-null    object \n",
            " 5   Age          714 non-null    float64\n",
            " 6   SibSp        891 non-null    int64  \n",
            " 7   Parch        891 non-null    int64  \n",
            " 8   Ticket       891 non-null    object \n",
            " 9   Fare         891 non-null    float64\n",
            " 10  Cabin        204 non-null    object \n",
            " 11  Embarked     889 non-null    object \n",
            "dtypes: float64(2), int64(5), object(5)\n",
            "memory usage: 83.7+ KB\n"
          ],
          "name": "stdout"
        }
      ]
    },
    {
      "cell_type": "code",
      "metadata": {
        "colab": {
          "base_uri": "https://localhost:8080/"
        },
        "id": "0pz3OfdJHCtL",
        "outputId": "9ecf4c98-3ffb-497c-c82d-d9ddf29bb42d"
      },
      "source": [
        "test.info()"
      ],
      "execution_count": 152,
      "outputs": [
        {
          "output_type": "stream",
          "text": [
            "<class 'pandas.core.frame.DataFrame'>\n",
            "RangeIndex: 418 entries, 0 to 417\n",
            "Data columns (total 11 columns):\n",
            " #   Column       Non-Null Count  Dtype  \n",
            "---  ------       --------------  -----  \n",
            " 0   PassengerId  418 non-null    int64  \n",
            " 1   Pclass       418 non-null    int64  \n",
            " 2   Name         418 non-null    object \n",
            " 3   Sex          418 non-null    object \n",
            " 4   Age          332 non-null    float64\n",
            " 5   SibSp        418 non-null    int64  \n",
            " 6   Parch        418 non-null    int64  \n",
            " 7   Ticket       418 non-null    object \n",
            " 8   Fare         417 non-null    float64\n",
            " 9   Cabin        91 non-null     object \n",
            " 10  Embarked     418 non-null    object \n",
            "dtypes: float64(2), int64(4), object(5)\n",
            "memory usage: 36.0+ KB\n"
          ],
          "name": "stdout"
        }
      ]
    },
    {
      "cell_type": "code",
      "metadata": {
        "id": "MRRkZf-yICE6"
      },
      "source": [
        ""
      ],
      "execution_count": 152,
      "outputs": []
    },
    {
      "cell_type": "code",
      "metadata": {
        "colab": {
          "base_uri": "https://localhost:8080/"
        },
        "id": "mGEVUb5RHVy9",
        "outputId": "b2320559-c48f-4a40-ab3d-f5596e029715"
      },
      "source": [
        "train['Embarked'].value_counts()"
      ],
      "execution_count": 153,
      "outputs": [
        {
          "output_type": "execute_result",
          "data": {
            "text/plain": [
              "S    644\n",
              "C    168\n",
              "Q     77\n",
              "Name: Embarked, dtype: int64"
            ]
          },
          "metadata": {
            "tags": []
          },
          "execution_count": 153
        }
      ]
    },
    {
      "cell_type": "code",
      "metadata": {
        "colab": {
          "base_uri": "https://localhost:8080/"
        },
        "id": "6S84uz-dHc1H",
        "outputId": "01595db0-0e35-45de-c3ac-59cb26acd457"
      },
      "source": [
        "train['Embarked'][train['Embarked'].isna()]=\"S\""
      ],
      "execution_count": 154,
      "outputs": [
        {
          "output_type": "stream",
          "text": [
            "/usr/local/lib/python3.7/dist-packages/ipykernel_launcher.py:1: SettingWithCopyWarning: \n",
            "A value is trying to be set on a copy of a slice from a DataFrame\n",
            "\n",
            "See the caveats in the documentation: https://pandas.pydata.org/pandas-docs/stable/user_guide/indexing.html#returning-a-view-versus-a-copy\n",
            "  \"\"\"Entry point for launching an IPython kernel.\n"
          ],
          "name": "stderr"
        }
      ]
    },
    {
      "cell_type": "code",
      "metadata": {
        "colab": {
          "base_uri": "https://localhost:8080/"
        },
        "id": "Lv6itUWOG3OD",
        "outputId": "00bc0028-05d8-4628-8c4e-cb936fd99a4c"
      },
      "source": [
        "train['Age'][train['Age'].isna()] = train['Age'].median()\n",
        "test['Age'][test['Age'].isna()] = test['Age'].median()"
      ],
      "execution_count": 155,
      "outputs": [
        {
          "output_type": "stream",
          "text": [
            "/usr/local/lib/python3.7/dist-packages/ipykernel_launcher.py:1: SettingWithCopyWarning: \n",
            "A value is trying to be set on a copy of a slice from a DataFrame\n",
            "\n",
            "See the caveats in the documentation: https://pandas.pydata.org/pandas-docs/stable/user_guide/indexing.html#returning-a-view-versus-a-copy\n",
            "  \"\"\"Entry point for launching an IPython kernel.\n",
            "/usr/local/lib/python3.7/dist-packages/ipykernel_launcher.py:2: SettingWithCopyWarning: \n",
            "A value is trying to be set on a copy of a slice from a DataFrame\n",
            "\n",
            "See the caveats in the documentation: https://pandas.pydata.org/pandas-docs/stable/user_guide/indexing.html#returning-a-view-versus-a-copy\n",
            "  \n"
          ],
          "name": "stderr"
        }
      ]
    },
    {
      "cell_type": "code",
      "metadata": {
        "colab": {
          "base_uri": "https://localhost:8080/"
        },
        "id": "DGscrIP8IDVo",
        "outputId": "c21afdd3-dcb7-4813-b4af-065964965f9a"
      },
      "source": [
        "train.columns"
      ],
      "execution_count": 156,
      "outputs": [
        {
          "output_type": "execute_result",
          "data": {
            "text/plain": [
              "Index(['PassengerId', 'Survived', 'Pclass', 'Name', 'Sex', 'Age', 'SibSp',\n",
              "       'Parch', 'Ticket', 'Fare', 'Cabin', 'Embarked'],\n",
              "      dtype='object')"
            ]
          },
          "metadata": {
            "tags": []
          },
          "execution_count": 156
        }
      ]
    },
    {
      "cell_type": "code",
      "metadata": {
        "colab": {
          "base_uri": "https://localhost:8080/"
        },
        "id": "UWUd4RQqIM70",
        "outputId": "9bed08d9-65ea-47c4-d777-0720f5c78c7c"
      },
      "source": [
        "print(set(train['Ticket']))"
      ],
      "execution_count": 157,
      "outputs": [
        {
          "output_type": "stream",
          "text": [
            "{'3101295', 'A./5. 3235', '230136', '345763', 'PC 17610', '382652', '1601', '113767', 'C.A. 17248', 'S.P. 3464', '4136', '345572', 'PC 17759', '312993', 'F.C. 12750', '347078', 'PC 17485', '349224', '7540', '2699', '364498', '347081', '358585', 'STON/O 2. 3101269', '248706', 'C.A. 24579', '2678', 'A/5 3594', '315084', '113806', '29105', '349248', '330979', '315153', '7267', '345780', '228414', 'W.E.P. 5734', '244270', 'SC 1748', 'A/5. 3336', '36866', '368323', '35281', 'A/S 2816', '112050', '250648', '237668', '244252', '35852', '36967', '347061', 'C.A. 29178', '347083', 'A/5 2466', '113043', 'A/5. 13032', '27849', '364500', 'S.W./PP 752', '364512', '7546', '3101281', '233866', '350026', '13502', '113773', '350404', '2689', '350052', '349218', '8471', '371060', '112379', '3101265', '111426', '2661', '113787', 'C 7076', 'PC 17475', '2648', '330909', 'A/5 3540', 'C.A. 33595', '341826', '2626', '248727', 'SOTON/OQ 3101316', 'STON/O 2. 3101292', '347062', '112058', 'SOTON/O.Q. 3101311', '230433', '365222', '31027', 'SC/PARIS 2149', '370371', '335677', '230434', '13214', '7553', '2223', 'W./C. 14258', '36865', '11753', '336439', 'SOTON/O.Q. 3101306', '11755', '211536', '14312', '12233', '13507', '113050', '11813', '2680', '236853', '349245', '244278', '370376', '248747', '364849', 'STON/O2. 3101282', '2628', '239865', '350050', '36963', '363592', 'SOTON/O2 3101287', '347089', 'A/4. 20589', 'SC/AH 3085', '4138', 'A/5. 2151', '113794', '364846', '345773', '19928', '34218', '349221', '113786', '19950', 'W/C 14208', 'STON/O2. 3101279', '113781', '349237', '349253', '8475', '236852', '349213', '24160', '367655', '31028', '14973', '35273', '250649', '54636', '29106', 'STON/O2. 3101271', '347068', '3460', 'PC 17608', 'W./C. 6608', 'PC 17609', '349215', '29104', '3474', '17453', '7552', '349231', 'A/5. 3337', 'A/4 48871', 'C.A. 2673', '27267', '350407', 'CA. 2314', 'PC 17600', '330958', '330931', 'C.A. 33111', '237798', '392091', '31418', '239856', 'PC 17611', '343095', '373450', '695', '250647', '220367', 'C.A. 29566', '113788', '349909', 'C 17369', '3101277', '315086', '113505', '229236', 'C 7077', '349257', 'PC 17604', '367232', '11769', '383121', '239853', '27042', '21440', '349205', 'SOTON/OQ 392089', '349910', 'F.C.C. 13529', 'SC/AH Basle 541', '345364', 'STON/O 2. 3101289', '330919', 'W./C. 14263', '36568', '4579', 'SC/PARIS 2146', '13049', 'PC 17483', '110152', '347067', '110564', '350035', '350406', '349207', '243847', 'PP 4348', '349206', 'C.A. 34260', '2908', 'SC/PARIS 2167', '250652', '330935', '350034', '347060', 'C.A. 6212', '11668', 'P/PP 3381', '9234', '110813', '2700', 'PC 17761', 'SOTON/OQ 392076', '250643', '2623', '11774', 'A/5 2817', 'S.O./P.P. 3', '65304', '347069', '370129', 'C.A. 5547', '367231', '349242', '349228', 'SOTON/OQ 3101317', '226875', '349249', '312991', '315037', '368703', '36209', '26707', 'WE/P 5735', 'SOTON/OQ 392082', '219533', '111240', 'PC 17612', '11767', '370372', '113059', '376564', '343276', 'C.A. 37671', 'PC 17596', 'S.C./PARIS 2079', '28134', '315082', '350046', '250653', '230080', 'C.A. 34651', '16988', '364516', '323951', 'SC/PARIS 2131', '28403', 'A/5 3902', 'C.A. 18723', '248731', '347087', '2649', '367230', '17465', '349204', 'SOTON/O.Q. 3101305', 'SOTON/O.Q. 392087', '113803', '367226', '113807', '237736', '349239', 'PC 17572', '17463', '2647', '693', '349203', '345779', '244373', 'PC 17569', '347077', '28664', '349240', '345764', '315151', 'PC 17597', '347071', '234360', '347470', '2668', '2669', '3101278', '29108', 'SOTON/O.Q. 3101312', '112277', '3101296', 'PC 17757', 'PC 17756', '28220', '29103', '2683', '2677', '19947', '231919', '347073', '2666', 'A./5. 2152', '248698', '19952', '19988', '345778', 'S.C./A.4. 23567', '2665', '14313', '349219', '347466', '113503', '244361', '244310', '3411', 'SC/PARIS 2133', '28213', '349210', '248723', '112053', '5727', '111369', 'C 7075', '237671', 'PC 17592', '370377', 'A/4 45380', 'PC 17477', '248738', 'CA 2144', 'PC 17585', '349227', '376566', '239855', '17764', 'A/5. 10482', '7534', 'STON/O 2. 3101273', '315094', '14311', 'W./C. 6609', '28665', '392092', '111320', 'S.O.P. 1166', '350417', '382649', '371110', '250651', '113789', 'PC 17754', '349244', '113572', 'PP 9549', '367229', '2693', 'SCO/W 1585', '234686', '345777', '244367', '2672', 'SC/Paris 2163', '349233', 'SOTON/O2 3101272', 'A/5 21172', '349247', 'STON/O 2. 3101286', 'SOTON/OQ 392086', '350042', 'STON/O 2. 3101274', '110465', '2659', 'PC 17760', 'A.5. 18509', '2650', '13567', '234604', '12460', 'C.A. 33112', '113055', 'A/5 21174', '334912', 'A/4. 34244', '11752', '315090', 'A/4. 39886', 'C.A. 24580', '374887', '36928', '11765', 'F.C.C. 13531', 'A/5 21171', '223596', 'PC 17590', '315097', '362316', '349201', '113051', 'PC 17482', '111427', '33638', '13568', '363294', '2653', '4133', '2663', '17464', '35851', '349223', 'SO/C 14885', '365226', '349236', 'STON/O 2. 3101285', 'SOTON/O.Q. 3101307', '2625', '374910', '11771', '345783', '28206', '345770', '113510', '2662', '382651', '347054', '226593', 'A/5 3536', '347080', '2664', '19943', '350043', '111428', '19996', '394140', '112052', '113501', '113792', 'PC 17593', '370375', '349225', '347063', '370365', '113760', '111361', '364848', 'PC 17474', 'SOTON/OQ 392090', '28551', '330877', '350047', 'C.A. 31026', '36864', '347082', '370373', '386525', 'PC 17599', 'S.O.C. 14879', '349246', '2695', '250644', '364499', '2694', '236171', '364850', '384461', '348124', 'SC/Paris 2123', '364851', '2685', '65303', '248740', '2641', '364506', '218629', '26360', 'C.A. 29395', 'A4. 54510', 'STON/O2. 3101283', '11751', '347076', '335097', '2667', '315089', '2926', '350060', 'PC 17603', '315098', '28228', '12749', '392096', 'PC 17476', '342826', '2631', '350048', '220845', '330932', 'STON/O 2. 3101288', 'LINE', '4134', '347468', '2686', '349212', '345774', '312992', 'PC 17605', '6563', '240929', '349234', 'C 4001', '343120', '17474', '349254', '237789', '3101276', 'SC/AH 29037', '324669', 'PC 17473', 'CA. 2343', '13213', '113056', '29751', 'C.A. 2315', 'PC 17582', '371362', '113783', '345769', '348123', '7545', '323592', 'SOTON/O.Q. 3101310', '2691', 'PC 17558', 'PC 17755', '367228', '16966', '3101298', '2003', '113800', 'Fa 265302', 'W./C. 6607', '348121', '2651', 'A/5 21173', '2620', '17466', 'STON/O 2. 3101293', 'A.5. 11206', '347743', '113784', '19877', '113509', '345781', '3101267', '112059', '2627', 'C.A. 31921', '17421', '315088', '347064', '237442', '29011', 'F.C.C. 13528', '248733', '250655', '239854', '349252', '349256', '113804', '315093', '113514', 'STON/O 2. 3101275', '347088', '19972', '350036', '2690', '113796', '28425', '244358', 'PC 17601', 'PC 17758', '113798', '36947', 'STON/O 2. 3101280', '7598', '372622', '315096', 'SOTON/O.Q. 392078', 'C.A./SOTON 34068', 'PC 17318', '349222', '3101264', '2624', 'A/5. 851', '330959', '237565', '250646', '231945', '13509', '349216', '2687', '347085', '370370', '370369', '330923', '349208', '28424', '29750', '36973', 'PC 17595', '110413', 'STON/O 2. 3101294', '349912', '2674', '345765', '233639', '330980', '2697', '243880', '65306', '347074', '349243', '363291', '347464', '350025', '343275', '350029', '234818', '349214', '2629', '4137', '349209', '113776', '2671', '347742', '4135', '349241', '11967', '349251', '113028', 'STON/O2. 3101290', '345767', '364511', '374746', 'S.O./P.P. 751', 'SW/PP 751', '349217'}\n"
          ],
          "name": "stdout"
        }
      ]
    },
    {
      "cell_type": "code",
      "metadata": {
        "id": "i0_F8bz_IkD-"
      },
      "source": [
        "import re\n",
        "l=[]\n",
        "for i in train['Ticket']:\n",
        "  if re.search('[A-Z].*',i)!=None:\n",
        "    l.append('Prefix')\n",
        "  else:\n",
        "    l.append(\"No_Prefix\")"
      ],
      "execution_count": 158,
      "outputs": []
    },
    {
      "cell_type": "code",
      "metadata": {
        "id": "pRAWgw4RKMj6"
      },
      "source": [
        "import re\n",
        "ll=[]\n",
        "for i in test['Ticket']:\n",
        "  if re.search('[A-Z].*',i)!=None:\n",
        "    ll.append('Prefix')\n",
        "  else:\n",
        "    ll.append(\"No_Prefix\")"
      ],
      "execution_count": 159,
      "outputs": []
    },
    {
      "cell_type": "code",
      "metadata": {
        "id": "eEik6pbmJ5jm"
      },
      "source": [
        "train['Tick_p'] = l\n",
        "test['Tick_p'] = ll"
      ],
      "execution_count": 160,
      "outputs": []
    },
    {
      "cell_type": "code",
      "metadata": {
        "colab": {
          "base_uri": "https://localhost:8080/"
        },
        "id": "HOgkDy-gKFrf",
        "outputId": "37057a4c-d2b8-4eab-87d8-957f883edb83"
      },
      "source": [
        "train.columns"
      ],
      "execution_count": 161,
      "outputs": [
        {
          "output_type": "execute_result",
          "data": {
            "text/plain": [
              "Index(['PassengerId', 'Survived', 'Pclass', 'Name', 'Sex', 'Age', 'SibSp',\n",
              "       'Parch', 'Ticket', 'Fare', 'Cabin', 'Embarked', 'Tick_p'],\n",
              "      dtype='object')"
            ]
          },
          "metadata": {
            "tags": []
          },
          "execution_count": 161
        }
      ]
    },
    {
      "cell_type": "code",
      "metadata": {
        "colab": {
          "base_uri": "https://localhost:8080/"
        },
        "id": "cIy8wTcyKtuI",
        "outputId": "9cf2cc22-875f-49d3-aaf2-d815e520e301"
      },
      "source": [
        "print(set(train['Name']))"
      ],
      "execution_count": 162,
      "outputs": [
        {
          "output_type": "stream",
          "text": [
            "{'Asplund, Master. Edvin Rojj Felix', 'Larsson, Mr. August Viktor', 'Olsson, Miss. Elina', 'Goodwin, Master. William Frederick', 'de Messemaeker, Mrs. Guillaume Joseph (Emma)', 'Toufik, Mr. Nakli', 'Waelens, Mr. Achille', 'Rice, Mrs. William (Margaret Norton)', 'Blank, Mr. Henry', 'Mellinger, Mrs. (Elizabeth Anne Maidment)', 'Brown, Miss. Amelia \"Mildred\"', 'Kalvik, Mr. Johannes Halvorsen', 'Williams, Mr. Charles Duane', 'Oreskovic, Miss. Marija', 'Risien, Mr. Samuel Beard', 'Saalfeld, Mr. Adolphe', 'Matthews, Mr. William John', 'Mellinger, Miss. Madeleine Violet', 'McGough, Mr. James Robert', 'Paulner, Mr. Uscher', 'Dick, Mr. Albert Adrian', 'Keane, Mr. Andrew \"Andy\"', 'Flynn, Mr. John', 'Daly, Mr. Peter Denis ', 'Bowerman, Miss. Elsie Edith', 'Lahoud, Mr. Sarkis', 'Panula, Mr. Ernesti Arvid', 'Hassab, Mr. Hammad', 'Cohen, Mr. Gurshon \"Gus\"', 'Lefebre, Miss. Jeannie', 'Niskanen, Mr. Juha', 'Kraeff, Mr. Theodor', 'Lang, Mr. Fang', 'Williams, Mr. Howard Hugh \"Harry\"', 'Saundercock, Mr. William Henry', 'Goldsmith, Master. Frank John William \"Frankie\"', 'Farthing, Mr. John', 'Andersson, Master. Sigvard Harald Elias', 'Sinkkonen, Miss. Anna', 'Jonsson, Mr. Carl', 'Levy, Mr. Rene Jacques', 'Hodges, Mr. Henry Price', 'Ali, Mr. William', 'Doling, Mrs. John T (Ada Julia Bone)', 'Van Impe, Mr. Jean Baptiste', 'Van der hoef, Mr. Wyckoff', 'Masselmani, Mrs. Fatima', 'Richards, Master. William Rowe', 'Kelly, Mr. James', 'Fry, Mr. Richard', 'Shelley, Mrs. William (Imanita Parrish Hall)', 'Yasbeck, Mrs. Antoni (Selini Alexander)', 'Funk, Miss. Annie Clemmer', 'Persson, Mr. Ernst Ulrik', 'Williams-Lambert, Mr. Fletcher Fellows', 'Moran, Miss. Bertha', 'Romaine, Mr. Charles Hallace (\"Mr C Rolmane\")', 'Aubart, Mme. Leontine Pauline', 'Kenyon, Mrs. Frederick R (Marion)', 'Taussig, Miss. Ruth', 'Thorneycroft, Mr. Percival', 'Cacic, Mr. Luka', 'Olsvigen, Mr. Thor Anderson', 'Navratil, Master. Edmond Roger', 'Fortune, Miss. Alice Elizabeth', 'Harder, Mr. George Achilles', 'Barbara, Mrs. (Catherine David)', 'Beavan, Mr. William Thomas', 'Leyson, Mr. Robert William Norman', 'Blackwell, Mr. Stephen Weart', 'Nysveen, Mr. Johan Hansen', 'Porter, Mr. Walter Chamberlain', 'Saad, Mr. Khalil', 'Hickman, Mr. Lewis', 'Goldsmith, Mrs. Frank John (Emily Alice Brown)', 'Gustafsson, Mr. Anders Vilhelm', 'Longley, Miss. Gretchen Fiske', 'Frauenthal, Mrs. Henry William (Clara Heinsheimer)', 'Nicola-Yarred, Master. Elias', 'Dennis, Mr. Samuel', 'Adahl, Mr. Mauritz Nils Martin', 'Harper, Mrs. Henry Sleeper (Myna Haxtun)', 'Green, Mr. George Henry', 'Fortune, Mr. Mark', 'Renouf, Mr. Peter Henry', 'Ponesell, Mr. Martin', 'Goldsmith, Mr. Frank John', 'Andersson, Mr. Anders Johan', 'Bystrom, Mrs. (Karolina)', 'Rosblom, Mr. Viktor Richard', 'Otter, Mr. Richard', 'Norman, Mr. Robert Douglas', 'Moubarek, Master. Gerios', 'Brown, Mr. Thomas William Solomon', 'Karlsson, Mr. Nils August', 'Bostandyeff, Mr. Guentcho', 'Beckwith, Mrs. Richard Leonard (Sallie Monypeny)', 'Odahl, Mr. Nils Martin', 'Rice, Master. George Hugh', 'West, Mr. Edwy Arthur', 'van Melkebeke, Mr. Philemon', 'Nicola-Yarred, Miss. Jamila', 'Ryan, Mr. Patrick', 'Drazenoic, Mr. Jozef', 'Strandberg, Miss. Ida Sofia', 'Mannion, Miss. Margareth', 'Rogers, Mr. William John', 'Molson, Mr. Harry Markland', 'Pernot, Mr. Rene', 'Calic, Mr. Petar', 'Attalah, Miss. Malake', 'Bryhl, Mr. Kurt Arnold Gottfrid', 'Sobey, Mr. Samuel James Hayden', 'Hagland, Mr. Ingvald Olai Olsen', 'Byles, Rev. Thomas Roussel Davids', 'Osen, Mr. Olaf Elon', 'Caram, Mrs. Joseph (Maria Elias)', 'Novel, Mr. Mansouer', 'Ford, Miss. Doolina Margaret \"Daisy\"', 'Elsbury, Mr. William James', \"O'Sullivan, Miss. Bridget Mary\", 'Dowdell, Miss. Elizabeth', 'Markoff, Mr. Marin', 'Sdycoff, Mr. Todor', 'Abelson, Mr. Samuel', 'Newell, Miss. Marjorie', 'Jacobsohn, Mrs. Sidney Samuel (Amy Frances Christy)', 'Badt, Mr. Mohamed', 'Harper, Rev. John', 'Vander Planke, Mrs. Julius (Emelia Maria Vandemoortele)', 'Bazzani, Miss. Albina', 'Tobin, Mr. Roger', 'Hendekovic, Mr. Ignjac', 'Swift, Mrs. Frederick Joel (Margaret Welles Barron)', 'Chibnall, Mrs. (Edith Martha Bowerman)', 'Roebling, Mr. Washington Augustus II', 'Radeff, Mr. Alexander', 'Olsen, Mr. Karl Siegwart Andreas', 'Minahan, Dr. William Edward', 'Bishop, Mr. Dickinson H', 'Palsson, Mrs. Nils (Alma Cornelia Berglund)', 'Johnson, Master. Harold Theodor', 'Andrew, Mr. Edgardo Samuel', 'Widener, Mr. Harry Elkins', 'Danoff, Mr. Yoto', 'Torber, Mr. Ernst William', 'Chambers, Mrs. Norman Campbell (Bertha Griggs)', 'Gale, Mr. Shadrach', 'Clarke, Mrs. Charles V (Ada Maria Winfield)', 'Barah, Mr. Hanna Assi', 'Meek, Mrs. Thomas (Annie Louise Rowley)', 'Navratil, Mr. Michel (\"Louis M Hoffman\")', 'Adams, Mr. John', 'Lulic, Mr. Nikola', 'Mockler, Miss. Helen Mary \"Ellie\"', 'Zimmerman, Mr. Leo', 'Phillips, Miss. Kate Florence (\"Mrs Kate Louise Phillips Marshall\")', 'Baclini, Miss. Marie Catherine', 'Sloper, Mr. William Thompson', 'Douglas, Mr. Walter Donald', 'Meyer, Mr. Edgar Joseph', 'Louch, Mrs. Charles Alexander (Alice Adelaide Slow)', 'Gee, Mr. Arthur H', 'Marvin, Mr. Daniel Warner', 'Palsson, Miss. Torborg Danira', 'Gustafsson, Mr. Alfred Ossian', 'Artagaveytia, Mr. Ramon', 'Moussa, Mrs. (Mantoura Boulos)', 'Wiklund, Mr. Jakob Alfred', 'Hoyt, Mrs. Frederick Maxfield (Jane Anne Forby)', 'Eklund, Mr. Hans Linus', 'Mernagh, Mr. Robert', 'Graham, Mr. George Edward', 'Andersson, Miss. Ellis Anna Maria', 'Gill, Mr. John William', 'Boulos, Mrs. Joseph (Sultana)', 'Maenpaa, Mr. Matti Alexanteri', 'Sage, Mr. George John Jr', 'Coelho, Mr. Domingos Fernandeo', 'Gilnagh, Miss. Katherine \"Katie\"', 'Skoog, Mr. Wilhelm', 'Bing, Mr. Lee', 'Yousseff, Mr. Gerious', 'Flynn, Mr. John Irwin (\"Irving\")', 'Ryerson, Miss. Emily Borie', 'O\\'Dwyer, Miss. Ellen \"Nellie\"', 'Moen, Mr. Sigurd Hansen', 'Sutehall, Mr. Henry Jr', 'Flynn, Mr. James', 'Peter, Mrs. Catherine (Catherine Rizk)', 'Moore, Mr. Leonard Charles', 'Bateman, Rev. Robert James', 'Shellard, Mr. Frederick William', 'Laleff, Mr. Kristo', 'Backstrom, Mrs. Karl Alfred (Maria Mathilda Gustafsson)', 'Fortune, Mr. Charles Alexander', 'Kvillner, Mr. Johan Henrik Johannesson', 'Slemen, Mr. Richard James', 'West, Mrs. Edwy Arthur (Ada Mary Worth)', 'Moubarek, Master. Halim Gonios (\"William George\")', 'Hansen, Mr. Henry Damsgaard', 'Panula, Master. Urho Abraham', 'Betros, Mr. Tannous', 'Buss, Miss. Kate', 'Maisner, Mr. Simon', 'Panula, Mr. Jaako Arnold', 'Jerwan, Mrs. Amin S (Marie Marthe Thuillard)', 'Carter, Rev. Ernest Courtenay', 'Hedman, Mr. Oskar Arvid', 'Zabour, Miss. Hileni', 'Watt, Mrs. James (Elizabeth \"Bessie\" Inglis Milne)', 'Smith, Mr. Thomas', 'Braund, Mr. Owen Harris', 'Nasser, Mrs. Nicholas (Adele Achem)', 'Reed, Mr. James George', 'Johnston, Miss. Catherine Helen \"Carrie\"', 'Murphy, Miss. Margaret Jane', 'Barkworth, Mr. Algernon Henry Wilson', 'Coutts, Master. Eden Leslie \"Neville\"', 'Barbara, Miss. Saiide', 'Troutt, Miss. Edwina Celia \"Winnie\"', 'Sage, Miss. Dorothy Edith \"Dolly\"', 'Rugg, Miss. Emily', 'Hickman, Mr. Stanley George', 'Hewlett, Mrs. (Mary D Kingcome) ', 'Wheadon, Mr. Edward H', 'Andersson, Miss. Erna Alexandra', 'Vanden Steen, Mr. Leo Peter', 'Yrois, Miss. Henriette (\"Mrs Harbeck\")', 'Emanuel, Miss. Virginia Ethel', 'Cairns, Mr. Alexander', 'Fahlstrom, Mr. Arne Jonas', 'Reynaldo, Ms. Encarnacion', 'Bissette, Miss. Amelia', 'Lam, Mr. Ali', 'Ward, Miss. Anna', 'Tomlin, Mr. Ernest Portage', 'Gustafsson, Mr. Karl Gideon', 'Nysten, Miss. Anna Sofia', 'Bailey, Mr. Percy Andrew', 'Pinsky, Mrs. (Rosa)', 'Williams, Mr. Charles Eugene', 'Peduzzi, Mr. Joseph', 'Givard, Mr. Hans Kristensen', 'Dahlberg, Miss. Gerda Ulrika', 'Cribb, Mr. John Hatfield', 'Vander Cruyssen, Mr. Victor', 'Nakid, Mr. Sahid', 'Lindblom, Miss. Augusta Charlotta', 'Vander Planke, Mr. Leo Edmondus', 'Kiernan, Mr. Philip', 'Calic, Mr. Jovo', 'de Pelsmaeker, Mr. Alfons', 'Vestrom, Miss. Hulda Amanda Adolfina', 'Hocking, Mr. Richard George', 'Jussila, Miss. Katriina', 'Skoog, Mrs. William (Anna Bernhardina Karlsson)', 'Davies, Mr. Charles Henry', 'Ohman, Miss. Velin', 'Thayer, Mrs. John Borland (Marian Longstreth Morris)', 'Herman, Miss. Alice', 'Becker, Master. Richard F', 'Skoog, Miss. Margit Elizabeth', 'Heininen, Miss. Wendla Maria', 'Moor, Master. Meier', 'Olsen, Mr. Henry Margido', 'Hunt, Mr. George Henry', 'Johnson, Miss. Eleanor Ileen', 'Staneff, Mr. Ivan', 'Madigan, Miss. Margaret \"Maggie\"', 'Larsson, Mr. Bengt Edvin', 'Lesurer, Mr. Gustave J', 'Rush, Mr. Alfred George John', 'Dick, Mrs. Albert Adrian (Vera Gillespie)', 'Taylor, Mr. Elmer Zebley', 'Kirkland, Rev. Charles Leonard', 'Kallio, Mr. Nikolai Erland', 'Salonen, Mr. Johan Werner', 'Sage, Miss. Constance Gladys', 'Andersson, Mrs. Anders Johan (Alfrida Konstantia Brogren)', 'Andersson, Miss. Sigrid Elisabeth', 'Sawyer, Mr. Frederick Charles', 'Greenfield, Mr. William Bertram', 'Graham, Mrs. William Thompson (Edith Junkins)', 'Hosono, Mr. Masabumi', 'Davison, Mrs. Thomas Henry (Mary E Finck)', 'Johanson, Mr. Jakob Alfred', 'Stahelin-Maeglin, Dr. Max', 'Meyer, Mr. August', 'Davidson, Mr. Thornton', 'Hart, Miss. Eva Miriam', 'van Billiard, Mr. Austin Blyler', 'Harper, Miss. Annie Jessie \"Nina\"', 'Herman, Mrs. Samuel (Jane Laver)', 'Carbines, Mr. William', 'Stranden, Mr. Juho', 'Saad, Mr. Amin', 'Madill, Miss. Georgette Alexandra', 'Thorne, Mrs. Gertrude Maybelle', 'Richards, Master. George Sibley', 'Coleff, Mr. Peju', 'Hippach, Mrs. Louis Albert (Ida Sophia Fischer)', 'Jensen, Mr. Niels Peder', 'Hale, Mr. Reginald', 'Windelov, Mr. Einar', 'Turpin, Mr. William John Robert', 'Faunthorpe, Mrs. Lizzie (Elizabeth Anne Wilkinson)', 'Sharp, Mr. Percival James R', 'Najib, Miss. Adele Kiamie \"Jane\"', 'Ling, Mr. Lee', 'Hawksford, Mr. Walter James', 'Smith, Mr. James Clinch', 'Tornquist, Mr. William Henry', 'Culumovic, Mr. Jeso', 'Lahtinen, Mrs. William (Anna Sylfven)', 'Clifford, Mr. George Quincy', 'Naidenoff, Mr. Penko', 'Crosby, Miss. Harriet R', 'Goodwin, Miss. Lillian Amy', 'Karaic, Mr. Milan', 'Garfirth, Mr. John', 'Baclini, Mrs. Solomon (Latifa Qurban)', 'Hassan, Mr. Houssein G N', 'Bidois, Miss. Rosalie', 'Perkin, Mr. John Henry', 'McDermott, Miss. Brigdet Delia', 'Webber, Miss. Susan', 'Butt, Major. Archibald Willingham', 'Harrington, Mr. Charles H', 'Johansson, Mr. Karl Johan', 'Kelly, Miss. Mary', 'Ball, Mrs. (Ada E Hall)', 'Yasbeck, Mr. Antoni', 'Sagesser, Mlle. Emma', 'Johnson, Mrs. Oscar W (Elisabeth Vilhelmina Berg)', 'Hart, Mr. Henry', 'Chaffee, Mr. Herbert Fuller', 'Leonard, Mr. Lionel', 'McCoy, Miss. Agnes', 'Carrau, Mr. Francisco M', 'Uruchurtu, Don. Manuel E', 'Hagland, Mr. Konrad Mathias Reiersen', 'Duff Gordon, Sir. Cosmo Edmund (\"Mr Morgan\")', 'Sage, Mr. Douglas Bullen', 'Becker, Miss. Marion Louise', 'Frolicher, Miss. Hedwig Margaritha', 'Appleton, Mrs. Edward Dale (Charlotte Lamson)', 'Markun, Mr. Johann', 'Carter, Master. William Thornton II', 'Harrison, Mr. William', 'Caldwell, Mrs. Albert Francis (Sylvia Mae Harbaugh)', 'Petterson, Mr. Johan Emil', 'Vande Walle, Mr. Nestor Cyriel', 'Chambers, Mr. Norman Campbell', 'Backstrom, Mr. Karl Alfred', 'McKane, Mr. Peter David', 'Chronopoulos, Mr. Apostolos', 'Silven, Miss. Lyyli Karoliina', 'Thayer, Mr. John Borland', 'Heikkinen, Miss. Laina', 'Morrow, Mr. Thomas Rowan', 'White, Mr. Percival Wayland', 'Penasco y Castellana, Mrs. Victor de Satode (Maria Josefa Perez de Soto y Vallejo)', 'Albimona, Mr. Nassef Cassem', 'Allison, Master. Hudson Trevor', 'Vovk, Mr. Janko', 'Skoog, Master. Karl Thorsten', 'Holverson, Mr. Alexander Oskar', 'Lindqvist, Mr. Eino William', 'Nankoff, Mr. Minko', 'Rice, Master. Arthur', 'Braund, Mr. Lewis Richard', 'Alexander, Mr. William', 'Kelly, Mrs. Florence \"Fannie\"', 'Horgan, Mr. John', 'Quick, Mrs. Frederick Charles (Jane Richards)', 'Beesley, Mr. Lawrence', 'Walker, Mr. William Anderson', 'Holm, Mr. John Fredrik Alexander', 'Pickard, Mr. Berk (Berk Trembisky)', 'Palsson, Master. Gosta Leonard', 'Asplund, Master. Clarence Gustaf Hugo', 'Rouse, Mr. Richard Henry', 'Beckwith, Mr. Richard Leonard', 'Simonius-Blumer, Col. Oberst Alfons', 'Johnson, Mr. Alfred', 'McGowan, Miss. Anna \"Annie\"', 'Sandstrom, Miss. Marguerite Rut', 'Hoyt, Mr. Frederick Maxfield', 'Goodwin, Master. Sidney Leonard', 'Ivanoff, Mr. Kanio', 'Davies, Master. John Morgan Jr', 'Crease, Mr. Ernest James', 'Moran, Mr. James', 'Spedden, Mrs. Frederic Oakley (Margaretta Corning Stone)', 'McNamee, Mr. Neal', 'Henry, Miss. Delia', 'Berglund, Mr. Karl Ivar Sven', 'Futrelle, Mrs. Jacques Heath (Lily May Peel)', 'Daly, Mr. Eugene Patrick', 'Doling, Miss. Elsie', 'Asplund, Miss. Lillian Gertrud', 'Campbell, Mr. William', 'Panula, Mrs. Juha (Maria Emilia Ojala)', 'Strom, Mrs. Wilhelm (Elna Matilda Persson)', 'Angle, Mrs. William A (Florence \"Mary\" Agnes Hughes)', 'Petroff, Mr. Pastcho (\"Pentcho\")', 'Sheerlinck, Mr. Jan Baptist', 'LeRoy, Miss. Bertha', 'Compton, Miss. Sara Rebecca', 'Balkic, Mr. Cerin', 'Coleridge, Mr. Reginald Charles', 'Fynney, Mr. Joseph J', 'Newell, Miss. Madeleine', 'Cherry, Miss. Gladys', 'Davis, Miss. Mary', 'Johnston, Mr. Andrew G', 'Hegarty, Miss. Hanora \"Nora\"', 'Somerton, Mr. Francis William', 'Frolicher-Stehli, Mr. Maxmillian', 'Rothschild, Mrs. Martin (Elizabeth L. Barrett)', 'Petroff, Mr. Nedelio', 'Peters, Miss. Katie', 'Lehmann, Miss. Bertha', 'Canavan, Miss. Mary', 'Taussig, Mr. Emil', 'Mitchell, Mr. Henry Michael', 'Zabour, Miss. Thamine', 'Connaghton, Mr. Michael', 'Ibrahim Shawah, Mr. Yousseff', 'Keane, Miss. Nora A', 'Meanwell, Miss. (Marion Ogden)', 'Turkula, Mrs. (Hedwig)', 'Newell, Mr. Arthur Webster', 'Nosworthy, Mr. Richard Cater', 'Stead, Mr. William Thomas', 'Stoytcheff, Mr. Ilia', 'Augustsson, Mr. Albert', 'Lefebre, Miss. Ida', 'Cook, Mr. Jacob', 'Morley, Mr. William', 'Cumings, Mrs. John Bradley (Florence Briggs Thayer)', 'Bradley, Mr. George (\"George Arthur Brayton\")', 'Spencer, Mrs. William Augustus (Marie Eugenie)', 'Futrelle, Mr. Jacques Heath', 'Johansson, Mr. Erik', 'Ryerson, Miss. Susan Parker \"Suzette\"', 'Pettersson, Miss. Ellen Natalia', 'Youseff, Mr. Gerious', 'Fleming, Miss. Margaret', 'Farrell, Mr. James', 'Homer, Mr. Harry (\"Mr E Haven\")', 'Hansen, Mr. Claus Peter', 'Andrews, Mr. Thomas Jr', 'Collyer, Mrs. Harvey (Charlotte Annie Tate)', 'Asim, Mr. Adola', 'Svensson, Mr. Olof', 'Sirota, Mr. Maurice', 'Pears, Mrs. Thomas (Edith Wearne)', 'Attalah, Mr. Sleiman', 'Laroche, Mr. Joseph Philippe Lemercier', 'Sage, Miss. Stella Anna', 'Eustis, Miss. Elizabeth Mussey', 'Andersson, Miss. Ebba Iris Alfrida', 'Panula, Master. Juha Niilo', 'Ford, Miss. Robina Maggie \"Ruby\"', 'Frauenthal, Dr. Henry William', 'Danbom, Mr. Ernst Gilbert', 'Greenberg, Mr. Samuel', 'Milling, Mr. Jacob Christian', 'Leeni, Mr. Fahim (\"Philip Zenni\")', 'Goodwin, Mrs. Frederick (Augusta Tyler)', 'Asplund, Mrs. Carl Oscar (Selma Augusta Emilia Johansson)', 'Baclini, Miss. Eugenie', 'Ford, Mr. William Neal', 'Jenkin, Mr. Stephen Curnow', 'Turpin, Mrs. William John Robert (Dorothy Ann Wonnacott)', 'Mineff, Mr. Ivan', 'Mayne, Mlle. Berthe Antonine (\"Mrs de Villiers\")', 'Sandstrom, Mrs. Hjalmar (Agnes Charlotta Bengtsson)', 'Hakkarainen, Mr. Pekka Pietari', 'Ridsdale, Miss. Lucy', 'Chapman, Mr. John Henry', 'Nirva, Mr. Iisakki Antino Aijo', 'Kink, Mr. Vincenz', 'Williams, Mr. Leslie', 'Francatelli, Miss. Laura Mabel', 'Abelson, Mrs. Samuel (Hannah Wizosky)', 'Harper, Mr. Henry Sleeper', 'Arnold-Franchi, Mrs. Josef (Josefine Franchi)', 'Parrish, Mrs. (Lutie Davis)', 'Vander Planke, Miss. Augusta Maria', 'Andersson, Mr. August Edvard (\"Wennerstrom\")', 'Beane, Mr. Edward', 'Lundahl, Mr. Johan Svensson', 'Laitinen, Miss. Kristina Sofia', 'Petranec, Miss. Matilda', 'del Carlo, Mr. Sebastiano', 'McGovern, Miss. Mary', 'Seward, Mr. Frederic Kimber', 'Stephenson, Mrs. Walter Bertram (Martha Eustis)', 'Icard, Miss. Amelie', 'Giglio, Mr. Victor', 'Allen, Miss. Elisabeth Walton', 'Tikkanen, Mr. Juho', 'Cleaver, Miss. Alice', 'Laroche, Miss. Simonne Marie Anne Andree', 'Leitch, Miss. Jessie Wills', 'Weisz, Mrs. Leopold (Mathilde Francoise Pede)', 'Allum, Mr. Owen George', 'Landergren, Miss. Aurora Adelia', \"O'Driscoll, Miss. Bridget\", 'Yousif, Mr. Wazli', 'Jussila, Miss. Mari Aina', 'Strom, Miss. Telma Matilda', 'Wright, Mr. George', 'Mionoff, Mr. Stoytcho', 'Pears, Mr. Thomas Clinton', 'Theobald, Mr. Thomas Leonard', 'Kilgannon, Mr. Thomas J', 'Ford, Mrs. Edward (Margaret Ann Watson)', 'Maioni, Miss. Roberta', 'Rood, Mr. Hugh Roscoe', 'Todoroff, Mr. Lalio', 'Stanley, Mr. Edward Roland', 'Stone, Mrs. George Nelson (Martha Evelyn)', 'Brown, Mrs. Thomas William Solomon (Elizabeth Catherine Ford)', 'Pekoniemi, Mr. Edvard', 'Beane, Mrs. Edward (Ethel Clarke)', 'Pain, Dr. Alfred', 'Smith, Miss. Marion Elsie', 'Coutts, Master. William Loch \"William\"', 'Osman, Mrs. Mara', 'Cacic, Miss. Marija', 'Willey, Mr. Edward', 'Frost, Mr. Anthony Wood \"Archie\"', 'Madsen, Mr. Fridtjof Arne', 'Doharr, Mr. Tannous', 'West, Miss. Constance Mirium', 'Astor, Mrs. John Jacob (Madeleine Talmadge Force)', 'Stankovic, Mr. Ivan', 'McMahon, Mr. Martin', 'Gheorgheff, Mr. Stanio', 'Andrews, Miss. Kornelia Theodosia', 'de Mulder, Mr. Theodore', 'Jansson, Mr. Carl Olof', 'Reeves, Mr. David', 'Hold, Mr. Stephen', 'Mullens, Miss. Katherine \"Katie\"', 'Dean, Mr. Bertram Frank', 'Van Impe, Miss. Catharina', 'Duran y More, Miss. Asuncion', 'Isham, Miss. Ann Elizabeth', 'Keefe, Mr. Arthur', 'Moran, Mr. Daniel J', 'Murdlin, Mr. Joseph', 'Lefebre, Miss. Mathilde', 'Wilhelms, Mr. Charles', 'Elias, Mr. Joseph Jr', 'Navratil, Master. Michel M', 'Rice, Master. Eric', 'Lam, Mr. Len', 'Devaney, Miss. Margaret Delia', 'Harris, Mr. Walter', 'Lindahl, Miss. Agda Thorilda Viktoria', 'Pavlovic, Mr. Stefo', 'Lester, Mr. James', 'Kantor, Mrs. Sinai (Miriam Sternin)', 'Soholt, Mr. Peter Andreas Lauritz Andersen', 'Guggenheim, Mr. Benjamin', 'Aks, Mrs. Sam (Leah Rosen)', 'Barton, Mr. David John', 'Hoyt, Mr. William Fisher', 'Marechal, Mr. Pierre', 'Ahlin, Mrs. Johan (Johanna Persdotter Larsson)', 'Nicholls, Mr. Joseph Charles', 'Meo, Mr. Alfonzo', 'Charters, Mr. David', 'Burke, Mr. Jeremiah', 'Kimball, Mr. Edwin Nelson Jr', 'Alhomaki, Mr. Ilmari Rudolf', 'Nakid, Miss. Maria (\"Mary\")', 'Thorneycroft, Mrs. Percival (Florence Kate White)', 'Salkjelsvik, Miss. Anna Kristine', 'Graham, Miss. Margaret Edith', 'Nenkoff, Mr. Christo', 'Giles, Mr. Frederick Edward', 'Jarvis, Mr. John Denzil', 'Downton, Mr. William James', 'Glynn, Miss. Mary Agatha', 'Sedgwick, Mr. Charles Frederick Waddington', 'McCarthy, Mr. Timothy J', 'Olsen, Mr. Ole Martin', 'Trout, Mrs. William H (Jessie L)', 'Carter, Miss. Lucile Polk', 'Brown, Mrs. James Joseph (Margaret Tobin)', 'Reuchlin, Jonkheer. John George', 'Cunningham, Mr. Alfred Fleming', 'Sage, Master. Thomas Henry', 'Carter, Mrs. William Ernest (Lucile Polk)', 'Hogeboom, Mrs. John C (Anna Andrews)', 'Colley, Mr. Edward Pomeroy', 'Mudd, Mr. Thomas Charles', 'Weir, Col. John', 'Troupiansky, Mr. Moses Aaron', 'Ali, Mr. Ahmed', 'Skoog, Miss. Mabel', 'Dean, Master. Bertram Vere', 'Moor, Mrs. (Beila)', 'Razi, Mr. Raihed', 'Carlsson, Mr. Frans Olof', 'Pengelly, Mr. Frederick William', 'Corn, Mr. Harry', 'Andersson, Miss. Ingeborg Constanzia', 'Murphy, Miss. Katherine \"Kate\"', 'O\\'Brien, Mrs. Thomas (Johanna \"Hannah\" Godfrey)', 'Duane, Mr. Frank', 'Smiljanic, Mr. Mile', 'Leader, Dr. Alice (Farnham)', 'Nasser, Mr. Nicholas', 'Sadlier, Mr. Matthew', 'Lindell, Mr. Edvard Bengtsson', 'Jensen, Mr. Hans Peder', 'Boulos, Miss. Nourelain', 'Hampe, Mr. Leon', 'Andreasson, Mr. Paul Edvin', 'Leinonen, Mr. Antti Gustaf', 'Fischer, Mr. Eberhard Thelander', 'Svensson, Mr. Johan', 'Cameron, Miss. Clear Annie', 'Gustafsson, Mr. Johan Birger', \"O'Brien, Mr. Timothy\", 'Slabenoff, Mr. Petco', 'Carr, Miss. Helen \"Ellen\"', 'Honkanen, Miss. Eliina', 'Dodge, Master. Washington', 'Karun, Miss. Manca', 'Samaan, Mr. Youssef', 'Skoog, Master. Harald', 'Hays, Mrs. Charles Melville (Clara Jennings Gregg)', 'Chip, Mr. Chang', 'Touma, Mrs. Darwis (Hanne Youssef Razi)', 'Shutes, Miss. Elizabeth W', 'Ross, Mr. John Hugo', 'Ayoub, Miss. Banoura', 'Moutal, Mr. Rahamin Haim', 'Ringhini, Mr. Sante', 'Rice, Master. Eugene', 'Wiseman, Mr. Phillippe', 'Silverthorne, Mr. Spencer Victor', 'Elias, Mr. Dibo', 'Vande Velde, Mr. Johannes Joseph', 'Jussila, Mr. Eiriik', 'Jacobsohn, Mr. Sidney Samuel', 'Partner, Mr. Austen', 'Allen, Mr. William Henry', 'Klaber, Mr. Herman', 'Elias, Mr. Tannous', 'Healy, Miss. Hanora \"Nora\"', 'Montvila, Rev. Juozas', 'Sirayanian, Mr. Orsen', 'Taylor, Mrs. Elmer Zebley (Juliet Cummins Wright)', 'Cavendish, Mr. Tyrell William', 'Patchett, Mr. George', 'Widegren, Mr. Carl/Charles Peter', 'Nye, Mrs. (Elizabeth Ramell)', 'Ilett, Miss. Bertha', 'Cann, Mr. Ernest Charles', 'Carter, Mr. William Ernest', 'Laroche, Mrs. Joseph (Juliette Marie Louise Lafargue)', 'Peter, Miss. Anna', 'Drew, Mrs. James Vivian (Lulu Thorne Christian)', 'Gavey, Mr. Lawrence', 'Abbing, Mr. Anthony', 'Hirvonen, Miss. Hildur E', 'Toomey, Miss. Ellen', 'Coxon, Mr. Daniel', 'Quick, Miss. Phyllis May', 'Celotti, Mr. Francesco', 'Hansen, Mr. Henrik Juul', 'Klasen, Mr. Klas Albin', 'Lobb, Mr. William Arthur', 'Allison, Miss. Helen Loraine', 'Bengtsson, Mr. John Viktor', 'Long, Mr. Milton Clyde', 'Dantcheff, Mr. Ristiu', 'Hakkarainen, Mrs. Pekka Pietari (Elin Matilda Dolck)', 'Bourke, Mrs. John (Catherine)', 'Baxter, Mr. Quigg Edmond', 'Danbom, Mrs. Ernst Gilbert (Anna Sigrid Maria Brogren)', 'Shorney, Mr. Charles Joseph', 'Johannesen-Bratthammer, Mr. Bernt', 'Young, Miss. Marie Grice', 'Robbins, Mr. Victor', 'Mallet, Master. Andre', 'Webber, Mr. James', 'Mamee, Mr. Hanna', \"O'Connell, Mr. Patrick D\", 'Stewart, Mr. Albert A', 'Cor, Mr. Liudevit', 'Dooley, Mr. Patrick', 'Hickman, Mr. Leonard Mark', 'Potter, Mrs. Thomas Jr (Lily Alexenia Wilson)', 'Hart, Mrs. Benjamin (Esther Ada Bloomfield)', 'Connolly, Miss. Kate', 'Caldwell, Master. Alden Gates', 'Endres, Miss. Caroline Louise', 'Moss, Mr. Albert Johan', 'Goncalves, Mr. Manuel Estanslas', 'Holverson, Mrs. Alexander Oskar (Mary Aline Towner)', 'Allison, Mrs. Hudson J C (Bessie Waldo Daniels)', 'Sundman, Mr. Johan Julian', 'Lemberopolous, Mr. Peter L', 'Johnson, Mr. William Cahoone Jr', 'Mack, Mrs. (Mary)', 'Baumann, Mr. John D', 'Smith, Mr. Richard William', 'Nilsson, Miss. Helmina Josefina', 'Silvey, Mr. William Baird', 'Garside, Miss. Ethel', 'Lurette, Miss. Elise', 'Hart, Mr. Benjamin', 'Edvardsson, Mr. Gustaf Hjalmar', 'Carter, Mrs. Ernest Courtenay (Lilian Hughes)', 'Dakic, Mr. Branko', 'Sivic, Mr. Husein', 'Hamalainen, Master. Viljo', \"O'Connor, Mr. Maurice\", 'Collander, Mr. Erik Gustaf', 'Lennon, Mr. Denis', 'Lewy, Mr. Ervin G', 'Bowen, Mr. David John \"Dai\"', 'Goodwin, Mr. Charles Edward', 'Simmons, Mr. John', 'Turja, Miss. Anna Sofia', 'Rintamaki, Mr. Matti', 'Johansson, Mr. Gustaf Joel', 'Boulos, Mr. Hanna', 'Plotcharsky, Mr. Vasil', 'Watson, Mr. Ennis Hastings', 'Crosby, Capt. Edward Gifford', 'Harris, Mr. George', 'Banfield, Mr. Frederick James', 'Sage, Mr. Frederick', 'Sjostedt, Mr. Ernst Adolf', 'Warren, Mrs. Frank Manley (Anna Sophia Atkinson)', 'Carlsson, Mr. August Sigfrid', 'Gilinski, Mr. Eliezer', 'Cardeza, Mr. Thomas Drake Martinez', 'Rothes, the Countess. of (Lucy Noel Martha Dyer-Edwards)', 'Myhrman, Mr. Pehr Fabian Oliver Malkolm', 'Richard, Mr. Emile', 'Lovell, Mr. John Hall (\"Henry\")', 'Sjoblom, Miss. Anna Sofia', 'Rosblom, Mrs. Viktor (Helena Wilhelmina)', 'Natsch, Mr. Charles H', 'Rekic, Mr. Tido', 'Christy, Miss. Julie Rachel', 'Denkoff, Mr. Mitto', 'Anderson, Mr. Harry', 'Andersen-Jensen, Miss. Carla Christine Nielsine', 'Brewe, Dr. Arthur Jackson', 'Robins, Mrs. Alexander A (Grace Charity Laury)', 'Richards, Mrs. Sidney (Emily Hocking)', 'Millet, Mr. Francis Davis', 'Robert, Mrs. Edward Scott (Elisabeth Walton McMillan)', 'Connors, Mr. Patrick', 'Parkes, Mr. Francis \"Frank\"', 'Davies, Mr. Alfred J', 'Ekstrom, Mr. Johan', 'Woolner, Mr. Hugh', 'Jonkoff, Mr. Lalio', 'Panula, Master. Eino Viljami', 'Burns, Miss. Elizabeth Margaret', 'Kink-Heilmann, Miss. Luise Gretchen', 'Wick, Miss. Mary Natalie', 'Foreman, Mr. Benjamin Laventall', 'Ostby, Mr. Engelhart Cornelius', 'Newsom, Miss. Helen Monypeny', 'Turcin, Mr. Stjepan', 'Scanlan, Mr. James', 'Dahl, Mr. Karl Edwart', 'Hays, Miss. Margaret Bechstein', 'Brocklebank, Mr. William Alfred', 'Knight, Mr. Robert J', 'Rommetvedt, Mr. Knud Paust', 'Emir, Mr. Farred Chehab', 'Wick, Mrs. George Dennick (Mary Hitchcock)', 'Serepeca, Miss. Augusta', 'Jermyn, Miss. Annie', 'Dimic, Mr. Jovan', 'Hanna, Mr. Mansour', 'McEvoy, Mr. Michael', 'Lines, Miss. Mary Conover', 'O\\'Leary, Miss. Hanora \"Norah\"', 'Moraweck, Dr. Ernest', 'Penasco y Castellana, Mr. Victor de Satode', 'Hood, Mr. Ambrose Jr', 'Bracken, Mr. James H', 'Foo, Mr. Choong', 'Smart, Mr. John Montgomery', 'Lemore, Mrs. (Amelia Milley)', 'Baxter, Mrs. James (Helene DeLaudeniere Chaput)', 'Mellors, Mr. William John', 'Meyer, Mrs. Edgar Joseph (Leila Saks)', 'Oreskovic, Mr. Luka', 'White, Mr. Richard Frasar', 'Harris, Mrs. Henry Birkhardt (Irene Wallach)', 'Barber, Miss. Ellen \"Nellie\"', 'Mallet, Mr. Albert', 'Birkeland, Mr. Hans Martin Monsen', 'Eitemiller, Mr. George Floyd', 'Bishop, Mrs. Dickinson H (Helen Walton)', 'Fortune, Miss. Mabel Helen', 'Pasic, Mr. Jakob', 'Baclini, Miss. Helene Barbara', 'Jardin, Mr. Jose Neto', 'Thomas, Master. Assad Alexander', 'Goldschmidt, Mr. George B', 'Kassem, Mr. Fared', 'Haas, Miss. Aloisia', 'Jalsevac, Mr. Ivan', 'Goldenberg, Mr. Samuel L', 'Bourke, Miss. Mary', 'Collyer, Miss. Marjorie \"Lottie\"', 'Perreault, Miss. Anne', 'Kent, Mr. Edward Austin', 'Goodwin, Master. Harold Victor', 'Duff Gordon, Lady. (Lucille Christiana Sutherland) (\"Mrs Morgan\")', 'McCormack, Mr. Thomas Joseph', 'Hocking, Mrs. Elizabeth (Eliza Needs)', 'Calderhead, Mr. Edward Pennington', 'Parr, Mr. William Henry Marsh', 'Ilmakangas, Miss. Pieta Sofia', 'Harmer, Mr. Abraham (David Lishin)', 'Christmann, Mr. Emil', 'Hamalainen, Mrs. William (Anna)', 'Humblen, Mr. Adolf Mathias Nicolai Olsen', 'Lefebre, Master. Henry Forbes', 'Gronnestad, Mr. Daniel Danielsen', 'Silvey, Mrs. William Baird (Alice Munger)', 'Gaskell, Mr. Alfred', 'Abbott, Mr. Rossmore Edward', 'McCoy, Mr. Bernard', 'Hippach, Miss. Jean Gertrude', 'Abbott, Mrs. Stanton (Rosa Hunt)', 'Gillespie, Mr. William Henry', 'Dorking, Mr. Edward Arthur', 'Padro y Manent, Mr. Julian', 'Wells, Miss. Joan', 'Bonnell, Miss. Elizabeth', 'Kantor, Mr. Sinai', \"O'Brien, Mr. Thomas\", 'Olsson, Mr. Nils Johan Goransson', 'Jensen, Mr. Svend Lauritz', 'Renouf, Mrs. Peter Henry (Lillian Jefferys)', 'Gallagher, Mr. Martin', 'Behr, Mr. Karl Howell', 'Sivola, Mr. Antti Wilhelm', 'Peuchen, Major. Arthur Godfrey', 'Mitkoff, Mr. Mito', 'Berriman, Mr. William John', 'Lievens, Mr. Rene Aime', 'Chapman, Mr. Charles Henry', 'Stanley, Miss. Amy Zillah Elsie', 'Nicholson, Mr. Arthur Ernest', 'Sunderland, Mr. Victor Francis', 'Coleff, Mr. Satio', 'Van Impe, Mrs. Jean Baptiste (Rosalie Paula Govaert)', 'Arnold-Franchi, Mr. Josef', 'Thayer, Mr. John Borland Jr', 'Sutton, Mr. Frederick', 'Butler, Mr. Reginald Fenton', 'Slocovski, Mr. Selman Francis', 'Johnson, Mr. Malkolm Joackim', 'Fox, Mr. Stanley Hubert', 'Bjornstrom-Steffansson, Mr. Mauritz Hakan', 'Taussig, Mrs. Emil (Tillie Mandelbaum)', 'Kelly, Miss. Anna Katherine \"Annie Kate\"', 'Palsson, Miss. Stina Viola', 'Goldenberg, Mrs. Samuel L (Edwiga Grabowska)', 'Harknett, Miss. Alice Phoebe', 'Daniel, Mr. Robert Williams', 'Collyer, Mr. Harvey', 'Lobb, Mrs. William Arthur (Cordelia K Stanlick)', 'Bourke, Mr. John', 'Morley, Mr. Henry Samuel (\"Mr Henry Marshall\")', 'Mangan, Miss. Mary', 'Harris, Mr. Henry Birkhardt', 'Minahan, Miss. Daisy E', 'Slayter, Miss. Hilda Mary'}\n"
          ],
          "name": "stdout"
        }
      ]
    },
    {
      "cell_type": "code",
      "metadata": {
        "id": "LCkNaNv5LhbA"
      },
      "source": [
        "from langdetect import detect\n",
        "lang = []\n",
        "for i in train['Name']:\n",
        "  lang.append(detect(i))\n"
      ],
      "execution_count": 163,
      "outputs": []
    },
    {
      "cell_type": "code",
      "metadata": {
        "id": "eXSEr6VDdVd2"
      },
      "source": [
        "from langdetect import detect\n",
        "langt = []\n",
        "for i in test['Name']:\n",
        "  langt.append(detect(i))\n"
      ],
      "execution_count": 164,
      "outputs": []
    },
    {
      "cell_type": "code",
      "metadata": {
        "colab": {
          "base_uri": "https://localhost:8080/"
        },
        "id": "ci-CdIG8N5lf",
        "outputId": "be74a2d1-5ad5-41bf-82bf-720e87fc67a0"
      },
      "source": [
        "print(len(set(lang)))"
      ],
      "execution_count": 165,
      "outputs": [
        {
          "output_type": "stream",
          "text": [
            "26\n"
          ],
          "name": "stdout"
        }
      ]
    },
    {
      "cell_type": "code",
      "metadata": {
        "id": "ho--ZQQxdovM"
      },
      "source": [
        "langt=pd.Series(langt)"
      ],
      "execution_count": 166,
      "outputs": []
    },
    {
      "cell_type": "code",
      "metadata": {
        "id": "PjazpXaYcJXn"
      },
      "source": [
        "train['lang']=lang\n",
        "test['lang'] = langt"
      ],
      "execution_count": 167,
      "outputs": []
    },
    {
      "cell_type": "code",
      "metadata": {
        "colab": {
          "base_uri": "https://localhost:8080/"
        },
        "id": "D4NIR-7QWWg1",
        "outputId": "628cf161-18f1-4867-a7bd-71e2451bedd2"
      },
      "source": [
        "print(sorted(set(train['lang'])))"
      ],
      "execution_count": 168,
      "outputs": [
        {
          "output_type": "stream",
          "text": [
            "['af', 'ca', 'cs', 'cy', 'da', 'de', 'en', 'es', 'et', 'fi', 'fr', 'hr', 'id', 'it', 'lt', 'nl', 'no', 'pl', 'pt', 'ro', 'sl', 'so', 'sv', 'sw', 'tl', 'tr']\n"
          ],
          "name": "stdout"
        }
      ]
    },
    {
      "cell_type": "code",
      "metadata": {
        "colab": {
          "base_uri": "https://localhost:8080/",
          "height": 163
        },
        "id": "4xHp8rz8geu-",
        "outputId": "26a956e3-061f-445e-8452-5ecacdcadf57"
      },
      "source": [
        "ldnlsd"
      ],
      "execution_count": 169,
      "outputs": [
        {
          "output_type": "error",
          "ename": "NameError",
          "evalue": "ignored",
          "traceback": [
            "\u001b[0;31m---------------------------------------------------------------------------\u001b[0m",
            "\u001b[0;31mNameError\u001b[0m                                 Traceback (most recent call last)",
            "\u001b[0;32m<ipython-input-169-aa9e03e3b90e>\u001b[0m in \u001b[0;36m<module>\u001b[0;34m()\u001b[0m\n\u001b[0;32m----> 1\u001b[0;31m \u001b[0mldnlsd\u001b[0m\u001b[0;34m\u001b[0m\u001b[0;34m\u001b[0m\u001b[0m\n\u001b[0m",
            "\u001b[0;31mNameError\u001b[0m: name 'ldnlsd' is not defined"
          ]
        }
      ]
    },
    {
      "cell_type": "code",
      "metadata": {
        "id": "ShJiUXOpc_sO"
      },
      "source": [
        "\n"
      ],
      "execution_count": null,
      "outputs": []
    },
    {
      "cell_type": "code",
      "metadata": {
        "id": "w0Y1aJQdfdgo"
      },
      "source": [
        "def get_language(x):\n",
        "\n",
        "  new=[]\n",
        "  for i in x:\n",
        "    if i in ['id','lt','so','sw','tl','tr','sq']:\n",
        "      new.append('other')\n",
        "    elif i in ['af','nl']:\n",
        "      new.append('dutch')\n",
        "    elif i in ['cz','hr','pl','sk','sl','cs']:\n",
        "      new.append('polish')\n",
        "    elif i in ['en','cy']:\n",
        "      new.append('english')\n",
        "    elif i==\"de\":\n",
        "      new.append('german')\n",
        "    elif i==\"fr\":\n",
        "      new.append(\"french\")\n",
        "    elif i in ['et','fi']:\n",
        "      new.append(\"finnish\")\n",
        "    elif i==\"pt\":\n",
        "      new.append(\"portugese\")\n",
        "    elif i in ['da','no','sv']:\n",
        "      new.append('danish')\n",
        "    elif i in ['ca','es','ro']:\n",
        "      new.append('spanish')\n",
        "    else:\n",
        "      new.append('italian')\n",
        "    \n",
        "  return pd.Series(new)"
      ],
      "execution_count": 170,
      "outputs": []
    },
    {
      "cell_type": "code",
      "metadata": {
        "id": "Ya_JkaAJnJqm"
      },
      "source": [
        "test['lang_group'] = get_language(test['lang'])\n",
        "train['lang_group'] = get_language(train['lang'])"
      ],
      "execution_count": 171,
      "outputs": []
    },
    {
      "cell_type": "code",
      "metadata": {
        "colab": {
          "base_uri": "https://localhost:8080/"
        },
        "id": "-9CGjvcGnm6G",
        "outputId": "074f94ff-47bc-4bd6-a58f-f4b03bcee8f4"
      },
      "source": [
        "print(train.columns)\n",
        "print(test.columns)"
      ],
      "execution_count": 172,
      "outputs": [
        {
          "output_type": "stream",
          "text": [
            "Index(['PassengerId', 'Survived', 'Pclass', 'Name', 'Sex', 'Age', 'SibSp',\n",
            "       'Parch', 'Ticket', 'Fare', 'Cabin', 'Embarked', 'Tick_p', 'lang',\n",
            "       'lang_group'],\n",
            "      dtype='object')\n",
            "Index(['PassengerId', 'Pclass', 'Name', 'Sex', 'Age', 'SibSp', 'Parch',\n",
            "       'Ticket', 'Fare', 'Cabin', 'Embarked', 'Tick_p', 'lang', 'lang_group'],\n",
            "      dtype='object')\n"
          ],
          "name": "stdout"
        }
      ]
    },
    {
      "cell_type": "code",
      "metadata": {
        "id": "2slKVy0Ouqox"
      },
      "source": [
        ""
      ],
      "execution_count": 172,
      "outputs": []
    },
    {
      "cell_type": "code",
      "metadata": {
        "colab": {
          "base_uri": "https://localhost:8080/",
          "height": 163
        },
        "id": "ZpnL8_4Sukg5",
        "outputId": "71eb9a8e-621d-4dcf-c520-c0a47e5b536e"
      },
      "source": [
        "kabcsoj"
      ],
      "execution_count": 173,
      "outputs": [
        {
          "output_type": "error",
          "ename": "NameError",
          "evalue": "ignored",
          "traceback": [
            "\u001b[0;31m---------------------------------------------------------------------------\u001b[0m",
            "\u001b[0;31mNameError\u001b[0m                                 Traceback (most recent call last)",
            "\u001b[0;32m<ipython-input-173-c69ee12fe20d>\u001b[0m in \u001b[0;36m<module>\u001b[0;34m()\u001b[0m\n\u001b[0;32m----> 1\u001b[0;31m \u001b[0mkabcsoj\u001b[0m\u001b[0;34m\u001b[0m\u001b[0;34m\u001b[0m\u001b[0m\n\u001b[0m",
            "\u001b[0;31mNameError\u001b[0m: name 'kabcsoj' is not defined"
          ]
        }
      ]
    },
    {
      "cell_type": "code",
      "metadata": {
        "id": "LZJeS01bo8rz"
      },
      "source": [
        "def get_name_salutation(x):\n",
        "  new=[]\n",
        "  import re \n",
        "  for i in x:\n",
        "    for j in re.findall('[A-Z][a-z]+\\.',i):\n",
        "      new.append(j.replace(\".\",\"\"))\n",
        "  return pd.Series(new)\n"
      ],
      "execution_count": 174,
      "outputs": []
    },
    {
      "cell_type": "code",
      "metadata": {
        "id": "RKoHSRJsqSrk"
      },
      "source": [
        "train['name_salutation'] = get_name_salutation(train['Name'])\n",
        "test['name_salutation'] = get_name_salutation(test['Name'])"
      ],
      "execution_count": 175,
      "outputs": []
    },
    {
      "cell_type": "markdown",
      "metadata": {
        "id": "4WZndxxM8Jd8"
      },
      "source": [
        ""
      ]
    },
    {
      "cell_type": "code",
      "metadata": {
        "id": "o74xkpPgutd-"
      },
      "source": [
        "print(sorted(set(train['name_salutation'])))\n",
        "print(sorted(set(test['name_salutation'])))"
      ],
      "execution_count": null,
      "outputs": []
    },
    {
      "cell_type": "code",
      "metadata": {
        "colab": {
          "base_uri": "https://localhost:8080/"
        },
        "id": "B321jtObv8ys",
        "outputId": "1c7b7281-2e63-4d58-e174-896211a5fd1e"
      },
      "source": [
        "test['name_salutation'][test['name_salutation']==\"Dona\"]=\"Don\""
      ],
      "execution_count": 176,
      "outputs": [
        {
          "output_type": "stream",
          "text": [
            "/usr/local/lib/python3.7/dist-packages/ipykernel_launcher.py:1: SettingWithCopyWarning: \n",
            "A value is trying to be set on a copy of a slice from a DataFrame\n",
            "\n",
            "See the caveats in the documentation: https://pandas.pydata.org/pandas-docs/stable/user_guide/indexing.html#returning-a-view-versus-a-copy\n",
            "  \"\"\"Entry point for launching an IPython kernel.\n"
          ],
          "name": "stderr"
        }
      ]
    },
    {
      "cell_type": "code",
      "metadata": {
        "id": "2hGdXeA-xPm6"
      },
      "source": [
        "print(train.columns)"
      ],
      "execution_count": null,
      "outputs": []
    },
    {
      "cell_type": "code",
      "metadata": {
        "id": "R0xGws7fyg7u"
      },
      "source": [
        "train_wo_y = train."
      ],
      "execution_count": null,
      "outputs": []
    },
    {
      "cell_type": "code",
      "metadata": {
        "id": "m63atH7ivB4F"
      },
      "source": [
        "train['name_salutation'].value_counts()"
      ],
      "execution_count": null,
      "outputs": []
    },
    {
      "cell_type": "code",
      "metadata": {
        "id": "5bRg_h_WVlQ6"
      },
      "source": [
        "kabcksDbhc"
      ],
      "execution_count": null,
      "outputs": []
    },
    {
      "cell_type": "code",
      "metadata": {
        "id": "Hbk_0cybqwyP"
      },
      "source": [
        "print(train.columns)\n",
        "print(test.columns)"
      ],
      "execution_count": null,
      "outputs": []
    },
    {
      "cell_type": "code",
      "metadata": {
        "id": "vLNppyg7rTDm"
      },
      "source": [
        "y=train['Survived']"
      ],
      "execution_count": 177,
      "outputs": []
    },
    {
      "cell_type": "code",
      "metadata": {
        "colab": {
          "base_uri": "https://localhost:8080/"
        },
        "id": "EfME-ugzkZKi",
        "outputId": "850f007b-212b-4133-8794-206387e6bd24"
      },
      "source": [
        "try:\n",
        "  train_wo_y = pd.get_dummies(train,columns=['Pclass','Sex','Embarked','Tick_p','lang_group','name_salutation'],drop_first=True)\n",
        "  train_wo_y=train_wo_y.drop(['PassengerId','Survived','Name','Ticket','Cabin','lang'],axis=1)\n",
        "  y=train['Survived']\n",
        "except:\n",
        "  pass\n",
        "\n",
        "\n",
        "train.columns\n",
        "\n",
        "try:\n",
        "  test = pd.get_dummies(test,columns=['Pclass','Sex','Embarked','Tick_p','lang_group','name_salutation'],drop_first=True)\n",
        "  test=test.drop(['PassengerId','Name','Ticket','Cabin','lang'],axis=1)\n",
        "except:\n",
        "  pass\n",
        "\n",
        "\n",
        "test.columns"
      ],
      "execution_count": 178,
      "outputs": [
        {
          "output_type": "execute_result",
          "data": {
            "text/plain": [
              "Index(['Age', 'SibSp', 'Parch', 'Fare', 'Pclass_2', 'Pclass_3', 'Sex_male',\n",
              "       'Embarked_Q', 'Embarked_S', 'Tick_p_Prefix', 'lang_group_dutch',\n",
              "       'lang_group_english', 'lang_group_finnish', 'lang_group_french',\n",
              "       'lang_group_german', 'lang_group_italian', 'lang_group_other',\n",
              "       'lang_group_polish', 'lang_group_portugese', 'lang_group_spanish',\n",
              "       'name_salutation_Don', 'name_salutation_Dr', 'name_salutation_Master',\n",
              "       'name_salutation_Miss', 'name_salutation_Mr', 'name_salutation_Mrs',\n",
              "       'name_salutation_Ms', 'name_salutation_Rev'],\n",
              "      dtype='object')"
            ]
          },
          "metadata": {
            "tags": []
          },
          "execution_count": 178
        }
      ]
    },
    {
      "cell_type": "code",
      "metadata": {
        "id": "r32TiDJor95i"
      },
      "source": [
        "X=train\n",
        "print(X.columns)\n",
        "print(test.columns)"
      ],
      "execution_count": null,
      "outputs": []
    },
    {
      "cell_type": "code",
      "metadata": {
        "id": "4gkE72rqz2Zg"
      },
      "source": [
        "train_wo_y.shape"
      ],
      "execution_count": null,
      "outputs": []
    },
    {
      "cell_type": "code",
      "metadata": {
        "id": "NjMyizUyy68P"
      },
      "source": [
        "from sklearn.decomposition import PCA\n",
        "from sklearn.preprocessing import StandardScaler,MinMaxScaler\n",
        "pca=PCA()\n",
        "stdx = StandardScaler().fit_transform(train_wo_y)\n",
        "\n",
        "covariance_matrix = np.cov(stdx.T)\n",
        "\n",
        "eigen_values,eigen_vectors = np.linalg.eig(covariance_matrix)"
      ],
      "execution_count": 188,
      "outputs": []
    },
    {
      "cell_type": "code",
      "metadata": {
        "colab": {
          "base_uri": "https://localhost:8080/"
        },
        "id": "-mHtOYFmBKLT",
        "outputId": "c56236f3-26fc-42e9-9163-6aaf11b4cfc4"
      },
      "source": [
        "np.cumsum(pd.Series(pd.Series(eigen_values).sort_values(ascending=False)/np.sum(eigen_values)).reset_index(drop=True))"
      ],
      "execution_count": 198,
      "outputs": [
        {
          "output_type": "execute_result",
          "data": {
            "text/plain": [
              "0     0.085275\n",
              "1     0.146879\n",
              "2     0.199304\n",
              "3     0.243424\n",
              "4     0.285505\n",
              "5     0.322940\n",
              "6     0.358899\n",
              "7     0.393923\n",
              "8     0.426664\n",
              "9     0.457200\n",
              "10    0.486925\n",
              "11    0.515864\n",
              "12    0.544702\n",
              "13    0.573150\n",
              "14    0.601305\n",
              "15    0.629229\n",
              "16    0.657108\n",
              "17    0.684939\n",
              "18    0.712759\n",
              "19    0.740568\n",
              "20    0.768357\n",
              "21    0.795608\n",
              "22    0.822243\n",
              "23    0.847726\n",
              "24    0.871645\n",
              "25    0.894712\n",
              "26    0.915827\n",
              "27    0.936005\n",
              "28    0.953096\n",
              "29    0.968384\n",
              "30    0.981721\n",
              "31    0.991749\n",
              "32    0.996561\n",
              "33    0.999859\n",
              "34    0.999967\n",
              "35    1.000000\n",
              "dtype: float64"
            ]
          },
          "metadata": {
            "tags": []
          },
          "execution_count": 198
        }
      ]
    },
    {
      "cell_type": "code",
      "metadata": {
        "colab": {
          "base_uri": "https://localhost:8080/"
        },
        "id": "dnoOmFGtB9zZ",
        "outputId": "bccfb9d7-453c-42c5-c0f2-75e06bdd495a"
      },
      "source": [
        "pca=PCA(n_components=12)\n",
        "X = pd.DataFrame(pca.fit_transform(stdx),columns = [\"PC\"+str(i) for i in range(1,13)])\n",
        "y"
      ],
      "execution_count": 280,
      "outputs": [
        {
          "output_type": "execute_result",
          "data": {
            "text/plain": [
              "0      0\n",
              "1      1\n",
              "2      1\n",
              "3      1\n",
              "4      0\n",
              "      ..\n",
              "886    0\n",
              "887    1\n",
              "888    0\n",
              "889    1\n",
              "890    0\n",
              "Name: Survived, Length: 891, dtype: int64"
            ]
          },
          "metadata": {
            "tags": []
          },
          "execution_count": 280
        }
      ]
    },
    {
      "cell_type": "code",
      "metadata": {
        "id": "xhURQQ97DKGj"
      },
      "source": [
        "from sklearn.model_selection import train_test_split\n",
        "trainx,testx,trainy,testy = train_test_split(X,y,test_size=0.25,random_state=123)"
      ],
      "execution_count": 281,
      "outputs": []
    },
    {
      "cell_type": "code",
      "metadata": {
        "id": "HmZN3lhnu_yX"
      },
      "source": [
        ""
      ],
      "execution_count": null,
      "outputs": []
    },
    {
      "cell_type": "code",
      "metadata": {
        "id": "wqCmzLD3mR30"
      },
      "source": [
        "from xgboost import XGBClassifier\n",
        "from sklearn.ensemble import GradientBoostingClassifier\n",
        "from sklearn.model_selection import RandomizedSearchCV\n",
        "\n",
        "grid = {'learning_rate':[0.0001,0.0005,0.001,0.005,0.01,0.05,0.1,0.15,0.2,0.25,0.3,0.35,0.4],\n",
        "'max_features':np.arange(1,len(trainx.columns)),'min_impurity_decrease':[0.1],\n",
        "'min_samples_split':np.arange(2,51,2),'min_samples_leaf':np.arange(1,51,2),\n",
        "'subsample':np.arange(0.1,1,0.1),'n_estimators':np.arange(10,2000,20)}\n",
        "\n",
        "gbc = GradientBoostingClassifier()\n",
        "\n",
        "rcv = RandomizedSearchCV(gbc,param_distributions=grid,cv=5,n_jobs=-1,verbose=True)"
      ],
      "execution_count": 282,
      "outputs": []
    },
    {
      "cell_type": "code",
      "metadata": {
        "id": "yj7tnQ2HNOVj"
      },
      "source": [
        "RandomizedSearchCV?"
      ],
      "execution_count": 248,
      "outputs": []
    },
    {
      "cell_type": "code",
      "metadata": {
        "colab": {
          "base_uri": "https://localhost:8080/"
        },
        "id": "6DiULqXBLlxq",
        "outputId": "e6a88522-de3e-4a60-a308-1b0ea1981876"
      },
      "source": [
        "zz = rcv.fit(trainx,trainy)"
      ],
      "execution_count": 283,
      "outputs": [
        {
          "output_type": "stream",
          "text": [
            "Fitting 5 folds for each of 10 candidates, totalling 50 fits\n"
          ],
          "name": "stdout"
        },
        {
          "output_type": "stream",
          "text": [
            "[Parallel(n_jobs=-1)]: Using backend LokyBackend with 2 concurrent workers.\n",
            "[Parallel(n_jobs=-1)]: Done  50 out of  50 | elapsed:   22.3s finished\n"
          ],
          "name": "stderr"
        }
      ]
    },
    {
      "cell_type": "code",
      "metadata": {
        "colab": {
          "base_uri": "https://localhost:8080/"
        },
        "id": "hNKFHJmnPtxp",
        "outputId": "ab7dee75-d857-4767-8cc3-915384296753"
      },
      "source": [
        "zz.best_score_"
      ],
      "execution_count": 284,
      "outputs": [
        {
          "output_type": "execute_result",
          "data": {
            "text/plain": [
              "0.7993940074065762"
            ]
          },
          "metadata": {
            "tags": []
          },
          "execution_count": 284
        }
      ]
    },
    {
      "cell_type": "code",
      "metadata": {
        "colab": {
          "base_uri": "https://localhost:8080/"
        },
        "id": "PE-YiuEJOYby",
        "outputId": "4eec7848-3308-4b38-c91a-542bd5fcb1d2"
      },
      "source": [
        "zz.best_estimator_"
      ],
      "execution_count": 271,
      "outputs": [
        {
          "output_type": "execute_result",
          "data": {
            "text/plain": [
              "GradientBoostingClassifier(ccp_alpha=0.0, criterion='friedman_mse', init=None,\n",
              "                           learning_rate=0.35, loss='deviance', max_depth=3,\n",
              "                           max_features=8, max_leaf_nodes=None,\n",
              "                           min_impurity_decrease=0.1, min_impurity_split=None,\n",
              "                           min_samples_leaf=9, min_samples_split=22,\n",
              "                           min_weight_fraction_leaf=0.0, n_estimators=710,\n",
              "                           n_iter_no_change=None, presort='deprecated',\n",
              "                           random_state=None, subsample=0.5, tol=0.0001,\n",
              "                           validation_fraction=0.1, verbose=0,\n",
              "                           warm_start=False)"
            ]
          },
          "metadata": {
            "tags": []
          },
          "execution_count": 271
        }
      ]
    },
    {
      "cell_type": "code",
      "metadata": {
        "colab": {
          "base_uri": "https://localhost:8080/"
        },
        "id": "LkwDQEQmMKn5",
        "outputId": "4eeeece9-2c58-452b-b3ef-459efb109e3b"
      },
      "source": [
        ""
      ],
      "execution_count": 272,
      "outputs": [
        {
          "output_type": "execute_result",
          "data": {
            "text/plain": [
              "0.7844686342722478"
            ]
          },
          "metadata": {
            "tags": []
          },
          "execution_count": 272
        }
      ]
    },
    {
      "cell_type": "code",
      "metadata": {
        "colab": {
          "base_uri": "https://localhost:8080/"
        },
        "id": "jraukhNLKOrz",
        "outputId": "5e4e4811-b812-43c6-d4f4-5d2847244862"
      },
      "source": [
        "gbc.get_params"
      ],
      "execution_count": 223,
      "outputs": [
        {
          "output_type": "execute_result",
          "data": {
            "text/plain": [
              "<bound method BaseEstimator.get_params of GradientBoostingClassifier(ccp_alpha=0.0, criterion='friedman_mse', init=None,\n",
              "                           learning_rate=0.1, loss='deviance', max_depth=3,\n",
              "                           max_features=None, max_leaf_nodes=None,\n",
              "                           min_impurity_decrease=0.0, min_impurity_split=None,\n",
              "                           min_samples_leaf=1, min_samples_split=2,\n",
              "                           min_weight_fraction_leaf=0.0, n_estimators=100,\n",
              "                           n_iter_no_change=None, presort='deprecated',\n",
              "                           random_state=None, subsample=1.0, tol=0.0001,\n",
              "                           validation_fraction=0.1, verbose=0,\n",
              "                           warm_start=False)>"
            ]
          },
          "metadata": {
            "tags": []
          },
          "execution_count": 223
        }
      ]
    },
    {
      "cell_type": "code",
      "metadata": {
        "id": "aC9Gs2cymmT3"
      },
      "source": [
        "XGBClassifier?\n",
        "#max_depth ,n_estimators ,n_jobs ,min_child_weight ,colsample_bytree ,\n",
        "#learning_rate ,gamma "
      ],
      "execution_count": null,
      "outputs": []
    },
    {
      "cell_type": "code",
      "metadata": {
        "id": "BSC3ltYanDi_"
      },
      "source": [
        "from hyperopt import hp,Trials,STATUS_OK,fmin,tpe"
      ],
      "execution_count": 203,
      "outputs": []
    },
    {
      "cell_type": "code",
      "metadata": {
        "id": "Tj5uJZrPJOiS"
      },
      "source": [
        ""
      ],
      "execution_count": null,
      "outputs": []
    },
    {
      "cell_type": "code",
      "metadata": {
        "id": "OZAxkpofmeDu"
      },
      "source": [
        "spacex = {'max_depth':hp.choice('max_depth',np.arange(2,21)),\n",
        "          'n_estimators':hp.choice('n_estimators',np.arange(21,1002,20)),\n",
        "          'min_child_weight':hp.choice('min_child_weight',np.arange(1,10,2)),\n",
        "          'subsample':hp.choice('subsample',np.arange(0.2,1,0.1)),\n",
        "          'learning_rate':hp.choice('learning_rate',[0.0005,0.0001,0.001,0.005,0.01,0.5,0.1,0.15,0.2,0.35,0.3,0.35,0.4,0.45,0.5]),\n",
        "          'gamma':hp.choice('gamma',np.arange(0.1,1,0.1))}"
      ],
      "execution_count": 217,
      "outputs": []
    },
    {
      "cell_type": "code",
      "metadata": {
        "id": "6RWYH-JNGiia"
      },
      "source": [
        "from xgboost import XGBClassifier\n",
        "from sklearn.model_selection import cross_val_score"
      ],
      "execution_count": 218,
      "outputs": []
    },
    {
      "cell_type": "code",
      "metadata": {
        "id": "kW7EzmAfpwGP"
      },
      "source": [
        "def obj(spacex):\n",
        "  model = XGBClassifier(max_depth=spacex['max_depth'],n_estimators=spacex['n_estimators'],\n",
        "                        min_child_weight=spacex['min_child_weight'],colsample_bytree=spacex['colsample_bytree'],\n",
        "                        learning_rate=spacex['learning_rate'],gamma=spacex['gamma'],n_jobs=-1)\n",
        "  accuracy = cross_val_score(model,trainx,trainy,cv=10).mean()\n",
        "  return{'loss':-accuracy,'status':STATUS_OK}"
      ],
      "execution_count": 219,
      "outputs": []
    },
    {
      "cell_type": "code",
      "metadata": {
        "colab": {
          "base_uri": "https://localhost:8080/"
        },
        "id": "QtWW9UIvl9n7",
        "outputId": "4581bbb7-33be-4877-95b9-746cce2f30c7"
      },
      "source": [
        "tr=Trials()\n",
        "bestx = fmin(fn=obj,space=spacex,algo=tpe.suggest,max_evals=100,trials=tr)"
      ],
      "execution_count": 220,
      "outputs": [
        {
          "output_type": "stream",
          "text": [
            "100%|██████████| 100/100 [07:37<00:00,  4.57s/it, best loss: -0.8114201718679329]\n"
          ],
          "name": "stdout"
        }
      ]
    },
    {
      "cell_type": "code",
      "metadata": {
        "id": "Mfah9mz8HgLW"
      },
      "source": [
        ""
      ],
      "execution_count": null,
      "outputs": []
    },
    {
      "cell_type": "code",
      "metadata": {
        "id": "bwL5uTwMts4v"
      },
      "source": [
        "bestx"
      ],
      "execution_count": null,
      "outputs": []
    },
    {
      "cell_type": "code",
      "metadata": {
        "id": "YgAp81zJyplR"
      },
      "source": [
        "{'max_depth':hp.choice('max_depth',np.arange(2,21)),\n",
        "          'n_estimators':hp.choice('n_estimators',np.arange(21,1002,20)),\n",
        "          'min_child_weight':hp.choice('min_child_weight',np.arange(1,10,2)),\n",
        "          'colsample_bytree':hp.choice('colsample_bytree',np.arange(0.2,1,0.1)),\n",
        "          'learning_rate':hp.choice('learning_rate',[0.0005,0.0001,0.001,0.005,0.01,0.5,0.1,0.15,0.2,0.35,0.3,0.35,0.4,0.45,0.5]),\n",
        "          'gamma':hp.choice('gamma',np.arange(0.1,1,0.1))}"
      ],
      "execution_count": null,
      "outputs": []
    },
    {
      "cell_type": "code",
      "metadata": {
        "id": "J3IIzD20ywc9"
      },
      "source": [
        "tryxgb = XGBClassifier(max_depth=np.arange(2,21)[15],colsample_bytree=np.arange(0.2,1,0.1)[3],\n",
        "                       gamma=0.6,learning_rate=[0.0005,0.0001,0.001,0.005,0.01,0.5,0.1,0.15,0.2,0.35,0.3,0.35,0.4,0.45,0.5][10],\n",
        "                       min_child_weight=np.arange(1,10,2)[3],n_estimators=np.arange(21,1002,20)[0])"
      ],
      "execution_count": null,
      "outputs": []
    },
    {
      "cell_type": "code",
      "metadata": {
        "id": "Ig9wTiIJ05sc"
      },
      "source": [
        "tx = pd.DataFrame(tx,columns=train.columns)\n",
        "tstx = pd.DataFrame(tstx,columns=train.columns)"
      ],
      "execution_count": null,
      "outputs": []
    },
    {
      "cell_type": "code",
      "metadata": {
        "id": "gN2R0u_Dz3cN"
      },
      "source": [
        "tryxgb.fit(tx,ty)"
      ],
      "execution_count": null,
      "outputs": []
    },
    {
      "cell_type": "code",
      "metadata": {
        "id": "jgv1Ikukz8D8"
      },
      "source": [
        "np.mean(np.abs(tryxgb.predict(tstx)-tsty))"
      ],
      "execution_count": null,
      "outputs": []
    },
    {
      "cell_type": "code",
      "metadata": {
        "id": "iICa69Bc0Jpe"
      },
      "source": [
        "from sklearn.metrics import classification_report\n",
        "print(classification_report(tryxgb.predict(tstx),tsty))"
      ],
      "execution_count": null,
      "outputs": []
    },
    {
      "cell_type": "code",
      "metadata": {
        "id": "okjh4ZpZ0yCd"
      },
      "source": [
        ""
      ],
      "execution_count": null,
      "outputs": []
    },
    {
      "cell_type": "code",
      "metadata": {
        "id": "5VPj7Bz_0XH8"
      },
      "source": [
        "tst = pd.read_csv('/content/test.csv')\n",
        "tstp=tst['PassengerId']\n",
        "fdf = pd.DataFrame(pd.concat([tstp,pd.Series(tryxgb.predict(test))],axis=1)).rename({0:'Survived'},axis=1)\n",
        "fdf"
      ],
      "execution_count": null,
      "outputs": []
    },
    {
      "cell_type": "code",
      "metadata": {
        "id": "vD2D1LYf2J8M"
      },
      "source": [
        "fdf.to_csv('Titanic_with_XGB.csv')\n",
        "from google.colab import files\n",
        "files.download('Titanic_with_XGB.csv')\n"
      ],
      "execution_count": null,
      "outputs": []
    },
    {
      "cell_type": "code",
      "metadata": {
        "id": "YdtPcdAs_XQW"
      },
      "source": [
        "detect(\"język polski\")"
      ],
      "execution_count": null,
      "outputs": []
    }
  ]
}